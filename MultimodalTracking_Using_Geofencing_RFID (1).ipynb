{
  "nbformat": 4,
  "nbformat_minor": 0,
  "metadata": {
    "colab": {
      "provenance": []
    },
    "kernelspec": {
      "name": "python3",
      "display_name": "Python 3"
    },
    "language_info": {
      "name": "python"
    }
  },
  "cells": [
    {
      "cell_type": "code",
      "execution_count": null,
      "metadata": {
        "id": "kz1P1Au74nvQ"
      },
      "outputs": [],
      "source": [
        "import random\n",
        "import time\n",
        "\n",
        "# Define geofence coordinates for different transport modes\n",
        "geofences = {\n",
        "    'Ship': [(40.7128, -74.0060), (40.7238, -74.0160)],\n",
        "    'Train': [(40.7238, -74.0160), (40.7338, -74.0260)],\n",
        "    'Truck': [(40.7338, -74.0260), (40.7438, -74.0360)]\n",
        "}\n",
        "# Placeholder for taking RFID data from a backend\n",
        "\n",
        "# import requests\n",
        "# backend_url = \"https://your-backend-api.com/get_rfid_data\"\n",
        "# response = requests.get(backend_url)\n",
        "# if response.status_code == 200:\n",
        "#     rfid_data = response.json()  # Assuming your backend returns JSON data\n",
        "#     # Process and use the RFID data in your application\n",
        "#     print(\"RFID data retrieved from the backend:\", rfid_data)\n",
        "# else:\n",
        "#     print(\"Failed to retrieve RFID data from the backend. Check your backend API.\")\n",
        "\n",
        "# Simulated RFID tags\n",
        "rfid_tags = ['RFID-001', 'RFID-002', 'RFID-003', 'RFID-004', 'RFID-005']\n",
        "\n",
        "\n"
      ]
    },
    {
      "cell_type": "markdown",
      "source": [
        "Function to check if an RFID tag is within a geofence"
      ],
      "metadata": {
        "id": "bngM9ZIx7Qi7"
      }
    },
    {
      "cell_type": "code",
      "source": [
        "def check_geofence(tag, coordinates):\n",
        "    latitude, longitude = tag\n",
        "    if (coordinates[0][0] <= latitude <= coordinates[1][0] and\n",
        "        coordinates[0][1] <= longitude <= coordinates[1][1]):\n",
        "        return True\n",
        "    return False\n"
      ],
      "metadata": {
        "id": "rg30JWNf7PSm"
      },
      "execution_count": null,
      "outputs": []
    },
    {
      "cell_type": "markdown",
      "source": [
        "Simulate the arrival of real-time RFID-tagged vehicles for 1000 iterations\n",
        "can do it for infinite time for real time tracking"
      ],
      "metadata": {
        "id": "67FMtLtV7eKm"
      }
    },
    {
      "cell_type": "code",
      "source": [
        "\n",
        "for _ in range(50):\n",
        "    tag = (random.uniform(40.7128, 40.7438), random.uniform(-74.0360, -74.0060))  # Adjusted latitude and longitude\n",
        "\n",
        "    # Introduced the controlled randomness to favor certain modes\n",
        "    if random.random() < 0.2:  # 20% probability for Ship\n",
        "        transport_mode = 'Ship'\n",
        "    elif random.random() < 0.4:  # 20% probability for Train\n",
        "        transport_mode = 'Train'\n",
        "    else:\n",
        "        transport_mode = 'Truck'\n",
        "\n",
        "    print(f\"Real-time RFID Tag: {tag}, Mode: {transport_mode}\")\n",
        "\n",
        "    time.sleep(1)  # Simulate a 1-second delay before processing the next RFID tag\n",
        "\n"
      ],
      "metadata": {
        "colab": {
          "base_uri": "https://localhost:8080/"
        },
        "id": "2J1ISQKF7cqv",
        "outputId": "7b0b0582-dabc-47e2-c316-d61530def8f8"
      },
      "execution_count": null,
      "outputs": [
        {
          "output_type": "stream",
          "name": "stdout",
          "text": [
            "Real-time RFID Tag: (40.728235221249534, -74.03367151579508), Mode: Train\n",
            "Real-time RFID Tag: (40.71404984727419, -74.01020096912593), Mode: Ship\n",
            "Real-time RFID Tag: (40.718692985480295, -74.01810344591382), Mode: Ship\n",
            "Real-time RFID Tag: (40.73938312754312, -74.02386642037612), Mode: Ship\n",
            "Real-time RFID Tag: (40.72440015732933, -74.03222334921374), Mode: Train\n",
            "Real-time RFID Tag: (40.73268712934113, -74.01491382975706), Mode: Train\n",
            "Real-time RFID Tag: (40.726488291807115, -74.01772468102479), Mode: Truck\n",
            "Real-time RFID Tag: (40.71678844100468, -74.01341305855347), Mode: Ship\n",
            "Real-time RFID Tag: (40.727070485658444, -74.01501249237681), Mode: Truck\n",
            "Real-time RFID Tag: (40.72876744039028, -74.03076430914687), Mode: Truck\n",
            "Real-time RFID Tag: (40.729122811549665, -74.03341992686944), Mode: Train\n",
            "Real-time RFID Tag: (40.73311517955797, -74.01636400881968), Mode: Ship\n",
            "Real-time RFID Tag: (40.72336276911527, -74.00986995953026), Mode: Train\n",
            "Real-time RFID Tag: (40.73991311003781, -74.02714424503334), Mode: Train\n",
            "Real-time RFID Tag: (40.7152822169465, -74.02802090317759), Mode: Truck\n",
            "Real-time RFID Tag: (40.742153858694344, -74.01471571527532), Mode: Train\n",
            "Real-time RFID Tag: (40.71356492015555, -74.03296493572624), Mode: Truck\n",
            "Real-time RFID Tag: (40.7378043745043, -74.01619487172155), Mode: Truck\n",
            "Real-time RFID Tag: (40.740856293019704, -74.03295197717743), Mode: Train\n",
            "Real-time RFID Tag: (40.715476252357355, -74.01369079734407), Mode: Truck\n",
            "Real-time RFID Tag: (40.739815353145325, -74.03170503603933), Mode: Train\n",
            "Real-time RFID Tag: (40.73249143704241, -74.01943092533062), Mode: Truck\n",
            "Real-time RFID Tag: (40.7326531214885, -74.02253922405893), Mode: Ship\n",
            "Real-time RFID Tag: (40.71942759961829, -74.0329612847747), Mode: Train\n",
            "Real-time RFID Tag: (40.713200076016875, -74.00930958778935), Mode: Truck\n",
            "Real-time RFID Tag: (40.730917278044025, -74.00784916347473), Mode: Train\n",
            "Real-time RFID Tag: (40.71659779039073, -74.01554143706747), Mode: Truck\n",
            "Real-time RFID Tag: (40.73446812113916, -74.0301222478134), Mode: Ship\n",
            "Real-time RFID Tag: (40.734234121507534, -74.02888398142615), Mode: Truck\n",
            "Real-time RFID Tag: (40.72164404431258, -74.0327481581023), Mode: Truck\n",
            "Real-time RFID Tag: (40.717740335188985, -74.01477993784852), Mode: Truck\n",
            "Real-time RFID Tag: (40.72487889109949, -74.0122728050004), Mode: Train\n",
            "Real-time RFID Tag: (40.729582789671575, -74.00844370948938), Mode: Train\n",
            "Real-time RFID Tag: (40.7345211255658, -74.02646003658671), Mode: Truck\n",
            "Real-time RFID Tag: (40.742041855189484, -74.01286546889597), Mode: Truck\n",
            "Real-time RFID Tag: (40.74145157972075, -74.01259056031111), Mode: Train\n",
            "Real-time RFID Tag: (40.73022858578366, -74.01690621601865), Mode: Truck\n",
            "Real-time RFID Tag: (40.73944594369465, -74.03008646954521), Mode: Truck\n",
            "Real-time RFID Tag: (40.7338683153181, -74.018571776278), Mode: Truck\n",
            "Real-time RFID Tag: (40.740111577625015, -74.01460341040305), Mode: Truck\n",
            "Real-time RFID Tag: (40.7137299778764, -74.03272224623657), Mode: Truck\n",
            "Real-time RFID Tag: (40.73509487145067, -74.016483697156), Mode: Truck\n",
            "Real-time RFID Tag: (40.720640494063296, -74.00739131758479), Mode: Truck\n",
            "Real-time RFID Tag: (40.73265445488554, -74.03550230701836), Mode: Train\n",
            "Real-time RFID Tag: (40.742547247646854, -74.02096026562663), Mode: Truck\n",
            "Real-time RFID Tag: (40.731853400236865, -74.00862760945542), Mode: Truck\n",
            "Real-time RFID Tag: (40.74177800767762, -74.02746468381746), Mode: Train\n",
            "Real-time RFID Tag: (40.722608711926924, -74.00879290755553), Mode: Truck\n",
            "Real-time RFID Tag: (40.72303985042913, -74.01744172074363), Mode: Ship\n",
            "Real-time RFID Tag: (40.73971130635858, -74.0330484796496), Mode: Train\n"
          ]
        }
      ]
    }
  ]
}